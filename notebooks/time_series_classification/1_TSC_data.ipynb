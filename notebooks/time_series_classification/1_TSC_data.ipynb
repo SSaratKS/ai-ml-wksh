{
 "cells": [
  {
   "cell_type": "markdown",
   "metadata": {},
   "source": [
    "# 1 Time series classification\n",
    "\n",
    "Time series classification (TSC) operates on time series data, a series of values that is ordered by time. Data samples are labelled as belonging to a particular class. The TSC system is trained using this data to classify unlabelled samples. There is a wide range of TSC applications. Smartwatch data is used to classify human activities (walking, running, ascending stairs, etc.). Animal behaviour (hunting, sleeping) is monitored using accelerometers on tagged, wild animals for environmental studies. Sensors on industrial machines are used to classify time series samples as either normal or preceding a failure, informing machine maintenance schedules."
   ]
  },
  {
   "cell_type": "markdown",
   "metadata": {},
   "source": [
    "## 1.1 Our dataset\n",
    "This workshop uses the SonyAIBORobotSurface1 dataset from the [Time Series Classification Repository](https://www.timeseriesclassification.com) (Dau et al, 2018). This dataset was collected by Vail and Veloso (2004), Carnegie Mellon University, from an accelerometer on a Sony AIBO robot. Their aim was to detect the surface that the robot was walking on in order to optimise its gait for that surface. The robots competed in the RoboCup League, a football game played on a carpeted field.\n",
    "\n",
    "\n",
    "\n",
    "![The Sony AIBO Robot is a robot dog. It is pictured with a ball.](https://i1.wp.com/www.techdigest.tv/wp-content/uploads/2015/06/aibo-560.jpg \"Sony AIBO Robot\")\n",
    "\n",
    "\n",
    "Image from Tech Digest (2015) (www.techdigest.tv)"
   ]
  },
  {
   "cell_type": "markdown",
   "metadata": {},
   "source": [
    "## 1.2 Data capture and processing\n",
    "\n",
    "The time series data provided is the robot's forward acceleration. The robot's acceleration was recorded by its onboard accelerometer. It was sampled 125 times per second (125Hz).\n",
    "\n",
    "\n",
    "The data has been pre-processed - \n",
    "+ Each sample has the same number of data points: 70 (0.56s).\n",
    "+ The samples are aligned - each starts at the same point in the robot's walk.\n",
    "+ Each sample has been labelled as either cement or carpet. \n",
    "+ The dataset has been standardised to give it a mean of 0 and a standard deviation of 1. The original data had a positive mean, because the robot leans forwards slightly, and was in the range approximately [0, 0.4] gravities. Whereas our data is in the range approximately [-3, 3]. \n",
    "+ A balanced dataset has been created - with an equal number of class 0 and class 1 samples.\n",
    "\n",
    "\n",
    "![A plot of example data samples](images/example_datasamples.png \"Example data samples\")"
   ]
  },
  {
   "cell_type": "markdown",
   "metadata": {},
   "source": [
    "## 1.3 Dataset format\n",
    "The entire dataset is provided in a single text file (.txt).\n",
    "\n",
    "![621x71 matrix of data](images/time_series_dataset.png \"Dataset\")"
   ]
  },
  {
   "cell_type": "markdown",
   "metadata": {},
   "source": [
    "# 2 Python modules and functions"
   ]
  },
  {
   "cell_type": "markdown",
   "metadata": {},
   "source": [
    "## 2.1 Load Python modules\n",
    "Import the Python modules that we will need. This is code that many other developers have made available for the general public to use (\"open source software\")."
   ]
  },
  {
   "cell_type": "code",
   "execution_count": null,
   "metadata": {},
   "outputs": [],
   "source": [
    "import numpy as np  # Arrays, matrices and functions on them. Required by Pandas, below\n",
    "import pandas as pd # A data analysis library\n",
    "from sklearn.model_selection import train_test_split # scikit-learn, machine learning tools\n",
    "import matplotlib.pyplot as plt # A plotting library\n",
    "import seaborn as sns # Built on matplotlib, facilitates aesthetically pleasing plots\n",
    "\n",
    "# General settings\n",
    "sns.set_style('whitegrid') # Plots will have a white grid\n",
    "# Variables that will help us work with the classes\n",
    "class_names = ['cement', 'carpet']\n",
    "class_colors = ['darkorange', 'steelblue']"
   ]
  },
  {
   "cell_type": "markdown",
   "metadata": {},
   "source": [
    "## 2.2 Functions\n",
    "\n",
    "Some lines of code, wrapped up into functions, that we will use later on in this notebook. We will treat these functions like black boxes and not go through the detail of it in this workshop."
   ]
  },
  {
   "cell_type": "code",
   "execution_count": null,
   "metadata": {},
   "outputs": [],
   "source": [
    "def load_data(filename):\n",
    "    ''' Load the data from a file in a GitHub repo '''\n",
    "    url_root = 'https://raw.githubusercontent.com/jarusgnuj/ai-ml-wksh/master/data/UCR_TSC_archive/SonyAIBORobotSurface1_IoC'\n",
    "    url = url_root+'/'+filename\n",
    "    robot_df = pd.read_csv(url, sep='\\t', header=None) # Use Pandas to load the data into a Pandas DataFrame\n",
    "    print('Loaded from', url)\n",
    "    robot_data = robot_df.values # Convert from a Pandas DataFrame to a numpy array\n",
    "    print('The shape of robot_data is', robot_data.shape)\n",
    "    print('Number of samples of class 0 (cement)', (robot_data[:,0].astype(int) == 0).sum())\n",
    "    print('Number of samples of class 1 (carpet)', (robot_data[:,0].astype(int) == 1).sum())\n",
    "    print('')\n",
    "    return robot_data\n",
    "\n",
    "\n",
    "def plot_data_samples(data, labels, sample_numbers):\n",
    "    ''' Plot the time series data relating to the input list of sample numbers '''\n",
    "    # Input format - a list, e.g. [1, 7, 22, 42]\n",
    "    fig, ax = plt.subplots()\n",
    "\n",
    "    for i in sample_numbers:\n",
    "        plt.plot(data[i], label=class_names[labels[i]], color=class_colors[labels[i]])\n",
    "        print('sample', i, 'class', str(labels[i]), class_names[labels[i]])\n",
    "\n",
    "    print('')\n",
    "    plt.ylim([-3.5, 3.5])\n",
    "    plt.title('Orange : cement (class 0)\\nBlue : carpet (class 1)')\n",
    "    ax.set_ylabel('Accelerometer data')\n",
    "    ax.set_xlabel('Data point number')\n",
    "    \n",
    "\n",
    "def plot_single_sample(data, sample_number):\n",
    "    ''' Plot the time series data relating to this sample number. '''\n",
    "    fig, ax = plt.subplots()\n",
    "    plt.plot(data[sample_number], color='darkred')\n",
    "    txt = 'Sample '+str(sample_number)+': Cement or carpet?\\nDo you recognise the data\\'s pattern?'\n",
    "    plt.suptitle(txt)\n",
    "    ax.set_ylabel('Standardised x-axis accelerometer data')\n",
    "    ax.set_xlabel('Data point number')"
   ]
  },
  {
   "cell_type": "markdown",
   "metadata": {},
   "source": [
    "# 3 Load the data"
   ]
  },
  {
   "cell_type": "code",
   "execution_count": null,
   "metadata": {},
   "outputs": [],
   "source": [
    "filename = 'SonyAIBORobotSurface1_IoC_BALANCED.txt'\n",
    "robot_data = load_data(filename) # This is a function that we created earlier in this notebook\n",
    "\n",
    "# Print information about the data's shape and size\n",
    "print('The robot_data is a matrix. These are the first 7 rows and 5 columns of robot_data:\\n', robot_data[:7, :5], '\\n')"
   ]
  },
  {
   "cell_type": "markdown",
   "metadata": {},
   "source": [
    "## 3.1 Process the data\n",
    "Separate out the labels vector from the time series data samples.\n",
    "\n",
    "class 0 : cement\n",
    "\n",
    "class 1 : carpet"
   ]
  },
  {
   "cell_type": "code",
   "execution_count": null,
   "metadata": {},
   "outputs": [],
   "source": [
    "labels = robot_data[:,0].astype(int)\n",
    "data = robot_data[:,1:]\n",
    "print('The shape of the data matrix is', data.shape)\n",
    "print('The shape of the labels vector is', labels.shape)"
   ]
  },
  {
   "cell_type": "markdown",
   "metadata": {},
   "source": [
    "# 4 Plot the data\n",
    "Select the row numbers of the sample you wish to plot. In Python, and many other programming languages, the first row in a matrix is row 0."
   ]
  },
  {
   "cell_type": "code",
   "execution_count": null,
   "metadata": {},
   "outputs": [],
   "source": [
    "plot_data_samples(data, labels, [0, 1, 2, 3]) ### CHANGE PARAMETER HERE ###"
   ]
  },
  {
   "cell_type": "markdown",
   "metadata": {},
   "source": [
    "## 4.1 Exercise 1a : Explore the data\n",
    "In the cell above, look for the code comment \"### CHANGE PARAMETER HERE ###\" and enter the data sample numbers that you wish to plot. E.g. you could enter [7, 41, 43, 44, 45, 46] to plot sample 7 and the samples from  41 to 46.\n",
    "\n",
    "Add another cell so that you can compare two plots if you wish.\n",
    "\n",
    "Explore the data and try to answer the following questions:\n",
    "+ Compare a cement sample to a carpet sample.\n",
    "  + How do they differ?\n",
    "+ Select 5 different class 0 samples and plot them together.\n",
    "  + Do they look similar?\n",
    "+ Select 5 different class 1 samples and plot them together.\n",
    "  + How do class 0 and class 1 samples differ?\n",
    "+ Compare the samples at the beginning of the dataset to those near then end.\n",
    "+ Do any of the data samples look odd in any way? \n",
    "  + Could that data sample be mis-labelled or mis-aligned?\n",
    "  \n",
    "The cell below will help you identify which data samples are of class 0 and which are of class 1."
   ]
  },
  {
   "cell_type": "code",
   "execution_count": null,
   "metadata": {},
   "outputs": [],
   "source": [
    "print('Labels of some of the first few data samples:')\n",
    "print(labels[:25])\n",
    "\n",
    "# Print the label of one sample, sample i.\n",
    "i = 8\n",
    "print('\\n', 'Label of data sample', i, ':', labels[i])"
   ]
  },
  {
   "cell_type": "markdown",
   "metadata": {},
   "source": [
    "## End of exercise 1a"
   ]
  },
  {
   "cell_type": "markdown",
   "metadata": {},
   "source": [
    "## 4.2 Discussion 1a\n",
    "Do the class 0 and class 1 samples look different?\n",
    "\n",
    "In what way?\n",
    "\n",
    "What class would you say the sample below belongs to?"
   ]
  },
  {
   "cell_type": "code",
   "execution_count": null,
   "metadata": {},
   "outputs": [],
   "source": [
    "sample_number = round(np.random.rand()*543)\n",
    "plot_single_sample(data, sample_number)"
   ]
  },
  {
   "cell_type": "markdown",
   "metadata": {},
   "source": [
    "Were you right? Let's find out."
   ]
  },
  {
   "cell_type": "code",
   "execution_count": null,
   "metadata": {},
   "outputs": [],
   "source": [
    "sample_number = 0  ### CHANGE PARAMETER HERE ###\n",
    "print('sample_number:', sample_number)\n",
    "print('sample_label:', labels[sample_number])\n",
    "print('class_name:', class_names[labels[sample_number]])"
   ]
  },
  {
   "cell_type": "markdown",
   "metadata": {},
   "source": [
    "# 5 Split the dataset into development and final test datasets\n",
    "We've explored the data. The next step is to begin developing a machine learning model that can classify our data. Before we start, we'll set aside some data to use to test the model once we've finalised it.\n",
    "\n",
    "![The dataset is split into two, unequal sets](images/final_test_dataset.png \"Split into development and final test datasets\")"
   ]
  },
  {
   "cell_type": "markdown",
   "metadata": {},
   "source": [
    "The dataset split is stratified so that the subsets both have the same class balance as the original dataset (50:50 in this case).\n",
    "![The split is stratified](images/stratify.png \"Stratified split\")"
   ]
  },
  {
   "cell_type": "code",
   "execution_count": null,
   "metadata": {},
   "outputs": [],
   "source": [
    "final_test_set_size = 100\n",
    "\n",
    "# Use the train_test_split from the scikit-learn (sklearn) module\n",
    "data_dev, data_finaltest, labels_dev, labels_finaltest = train_test_split(\n",
    "    data, labels, test_size=final_test_set_size, random_state=21, stratify=labels)\n",
    "\n",
    "print('The shape of data_dev is', data_dev.shape)\n",
    "print('The shape of data_finaltest is', data_finaltest.shape)\n",
    "print('Development data:')\n",
    "print('Number of samples of class 0', (labels_dev == 0).sum())\n",
    "print('Number of samples of class 1', (labels_dev == 1).sum())\n",
    "print('Final test data:')\n",
    "print('Number of samples of class 0', (labels_finaltest == 0).sum())\n",
    "print('Number of samples of class 1', (labels_finaltest == 1).sum())"
   ]
  },
  {
   "cell_type": "markdown",
   "metadata": {},
   "source": [
    "These datasets could now be saved to file and reloaded in the next notebook. Instead, we'll load a prepared dataset in the next notebook."
   ]
  },
  {
   "cell_type": "markdown",
   "metadata": {},
   "source": [
    "# 6 Discussion 1b : Your own time series classification applications\n",
    "+ Can you think of some useful applications within your organisation?\n",
    "+ Does your organisation generate or depend upon time series data?"
   ]
  },
  {
   "cell_type": "markdown",
   "metadata": {},
   "source": [
    "# References\n",
    "Dau, H. A., Bagnall, A., Kamgar, K., Yeh, C.-C. M., Zhu, Y., Gharghabi, S., Ratanamahatana, C. A. and Keogh, E. (2018) ‘The UCR Time Series Archive’, [Online]. Available at http://arxiv.org/abs/1810.07758 (Accessed 4 May 2019).\n",
    "\n",
    "Vail, D. and Veloso, M. (2004) ‘Learning from accelerometer data on a legged robot’, *IFAC Proceedings*, vol. 37, no. 8, pp. 822–827 [Online]. Available at https://www.cs.cmu.edu/~mmv/papers/04iav-doug.pdf (Accessed 4 May 2019)."
   ]
  },
  {
   "cell_type": "code",
   "execution_count": null,
   "metadata": {},
   "outputs": [],
   "source": []
  }
 ],
 "metadata": {
  "kernelspec": {
   "display_name": "Python 3",
   "language": "python",
   "name": "python3"
  },
  "language_info": {
   "codemirror_mode": {
    "name": "ipython",
    "version": 3
   },
   "file_extension": ".py",
   "mimetype": "text/x-python",
   "name": "python",
   "nbconvert_exporter": "python",
   "pygments_lexer": "ipython3",
   "version": "3.5.2"
  }
 },
 "nbformat": 4,
 "nbformat_minor": 2
}
