{
 "cells": [
  {
   "cell_type": "markdown",
   "metadata": {},
   "source": [
    "# 1 Time series classification\n",
    "<a href=\"https://colab.research.google.com/github/jarusgnuj/ioctm358/blob/master/notebooks/time_series_classification/1_TSC_data.ipynb\" target=\"_parent\"><img src=\"https://colab.research.google.com/assets/colab-badge.svg\" alt=\"Open In Colab\"/></a>\n",
    "\n",
    "Time series classification (TSC) operates on time series data, a series of values that is ordered by time. Data samples are labelled as belonging to a particular class. The TSC system is trained using this data to classify unlabelled samples. There is a wide range of TSC applications. Smartwatch data is used to classify human activities (walking, running, ascending stairs, etc.). Animal behaviour (hunting, sleeping) is monitored using accelerometers on tagged, wild animals for environmental studies. Sensors on industrial machines are used to classify time series samples as either normal or preceding a failure, informing machine maintenance schedules."
   ]
  },
  {
   "cell_type": "markdown",
   "metadata": {},
   "source": [
    "## 1.1 Our dataset\n",
    "This exercise uses the SonyAIBORobotSurface1 dataset from the [UEA & UCR Time Series Classification Repository](https://www.timeseriesclassification.com) (Dau et al, 2018). This dataset was collected by Vail and Veloso (2004), Carnegie Mellon University, from an accelerometer on a Sony AIBO robot. Their aim was to detect the surface that the robot was walking on in order to optimise its gait for that surface. The robots competed in the RoboCup League, a football game played on a carpeted field.\n",
    "\n",
    "\n",
    "\n",
    "![The Sony AIBO Robot is a robot dog. It is pictured with a ball.](https://i1.wp.com/www.techdigest.tv/wp-content/uploads/2015/06/aibo-560.jpg \"Sony AIBO Robot\")"
   ]
  },
  {
   "cell_type": "markdown",
   "metadata": {},
   "source": [
    "## 1.2 References\n",
    "Dau, H. A., Bagnall, A., Kamgar, K., Yeh, C.-C. M., Zhu, Y., Gharghabi, S., Ratanamahatana, C. A. and Keogh, E. (2018) ‘The UCR Time Series Archive’, [Online]. Available at http://arxiv.org/abs/1810.07758 (Accessed 4 May 2019).\n",
    "\n",
    "Vail, D. and Veloso, M. (2004) ‘Learning from accelerometer data on a legged robot’, *IFAC Proceedings*, vol. 37, no. 8, pp. 822–827 [Online]. Available at https://www.cs.cmu.edu/~mmv/papers/04iav-doug.pdf (Accessed 4 May 2019)."
   ]
  },
  {
   "cell_type": "markdown",
   "metadata": {},
   "source": [
    "## 1.3 Data capture and processing\n",
    "\n",
    "The robot data provided is the x-axis accelerometer data sampled at 125Hz (125 times per second). A positive value relates acceleration in the forward direction. Each data sample has 70 data points (0.56s) and is labelled as either cement or carpet. The original data had a positive mean, because the robot leans forwards slightly, and was in the range approximately [0, 0.4] gravities. \n",
    "+ The samples are aligned - each starts at the same point in the robot's walk.\n",
    "+ The dataset provided has been standardised."
   ]
  },
  {
   "cell_type": "markdown",
   "metadata": {},
   "source": [
    "## 1.4 Dataset format\n",
    "The entire dataset is provided in a single comma separated variable file (csv).\n",
    "\n",
    "![621x71 matrix of data](images/time_series_dataset.png \"Dataset\")"
   ]
  },
  {
   "cell_type": "markdown",
   "metadata": {},
   "source": [
    "# 2 Load Python code from other sources\n",
    "Import the Python modules that we will need."
   ]
  },
  {
   "cell_type": "code",
   "execution_count": null,
   "metadata": {},
   "outputs": [],
   "source": [
    "import numpy as np  # Arrays, matrices and functions on them. Required by Pandas, below\n",
    "import pandas as pd # A data analysis library\n",
    "from sklearn.model_selection import train_test_split # scikit-learn, machine learning tools\n",
    "import matplotlib.pyplot as plt # A plotting library\n",
    "import seaborn as sns # Built on matplotlib, facilitates aesthetically pleasing plots\n",
    "\n",
    "# General settings\n",
    "sns.set_style('whitegrid') # Plots will have a white grid"
   ]
  },
  {
   "cell_type": "markdown",
   "metadata": {},
   "source": [
    "# 3 Load the data"
   ]
  },
  {
   "cell_type": "code",
   "execution_count": null,
   "metadata": {},
   "outputs": [],
   "source": [
    "url_root = 'https://raw.githubusercontent.com/jarusgnuj/ai-ml-wksh/master/data/UCR_TSC_archive/SonyAIBORobotSurface1_IoC'\n",
    "url = url_root+'/SonyAIBORobotSurface1_IoC_ALL.txt'\n",
    "robot_df = pd.read_csv(url, sep='\\t', header=None) # Use Pandas to load the data into a Pandas DataFrame\n",
    "print('Loaded from', url)\n",
    "robot_data = robot_df.values # Convert from a Pandas DataFrame to a numpy array\n",
    "\n",
    "# Print information about the data's shape and size\n",
    "print('The shape of robot_data is', robot_data.shape, '\\n')\n",
    "print('The robot_data is a matrix. These are the first 7 rows and 5 columns of robot_data:\\n', robot_data[:7, :5], '\\n')\n",
    "print('The first row of robot_data, in full:\\n', robot_data[0], '\\n')\n",
    "print('The second row of robot_data, in full:\\n', robot_data[1], '\\n')\n",
    "print('The first column of robot_data:\\n', robot_data[:,0], '\\n')"
   ]
  },
  {
   "cell_type": "markdown",
   "metadata": {},
   "source": [
    "# 4 Process the data\n",
    "Separate out the labels vector from the time series data samples. For convenience we will use class labels 0 and 1 instead of 1 and 2. \n",
    "\n",
    "class 0 : cement\n",
    "\n",
    "class 1 : carpet"
   ]
  },
  {
   "cell_type": "code",
   "execution_count": null,
   "metadata": {},
   "outputs": [],
   "source": [
    "labels = robot_data[:,0]\n",
    "data = robot_data[:,1:]\n",
    "print('The shape of the data matrix is', data.shape)\n",
    "print('The shape of the labels vector is', labels.shape)\n",
    "\n",
    "# Change from classes 1 and 2 to classes 0 and 1, for convenience later\n",
    "labels = labels - 1\n",
    "labels = labels.astype(int)"
   ]
  },
  {
   "cell_type": "code",
   "execution_count": null,
   "metadata": {},
   "outputs": [],
   "source": [
    "# Variables that will help us work with the classes\n",
    "class_names = ['cement', 'carpet']\n",
    "class_colors = ['darkorange', 'steelblue']"
   ]
  },
  {
   "cell_type": "markdown",
   "metadata": {},
   "source": [
    "## 4.1 Plot the data\n",
    "Select the row number of the sample you wish to plot. Find out what class that sample belongs to then plot the sample.\n",
    "\n",
    "\n",
    "In Python, and many other programming languages, the first row in a matrix is row 0."
   ]
  },
  {
   "cell_type": "code",
   "execution_count": null,
   "metadata": {},
   "outputs": [],
   "source": [
    "sample_number = 0 ### CHANGE PARAMETER HERE ###\n",
    "sample_label = labels[sample_number]\n",
    "class_name = class_names[sample_label]\n",
    "print('sample_number:', sample_number)\n",
    "print('sample_label:', sample_label)\n",
    "print('class_name:', class_name)\n",
    "\n",
    "fig, ax = plt.subplots()\n",
    "plt.plot(data[sample_number], label=class_name, color='darkred')\n",
    "plt.legend(loc='upper right', frameon=False)\n",
    "plt.suptitle('A single data sample')\n",
    "ax.set_ylabel('Standardised x-axis accelerometer data')\n",
    "ax.set_xlabel('Data point number')"
   ]
  },
  {
   "cell_type": "markdown",
   "metadata": {},
   "source": [
    "## 4.2 Plot two samples to compare carpet to cement"
   ]
  },
  {
   "cell_type": "code",
   "execution_count": null,
   "metadata": {},
   "outputs": [],
   "source": [
    "sample_a = 0 ### CHANGE PARAMETER HERE ###\n",
    "sample_b = 1 ### CHANGE PARAMETER HERE ###\n",
    "\n",
    "fig, ax = plt.subplots()\n",
    "plt.plot(data[sample_a], label=class_names[labels[sample_a]], color=class_colors[labels[sample_a]])\n",
    "plt.plot(data[sample_b], label=class_names[labels[sample_b]], color=class_colors[labels[sample_b]])\n",
    "plt.legend(loc='upper right', frameon=False)\n",
    "plt.suptitle('Comparison of data samples')\n",
    "ax.set_ylabel('Standardised x-axis accelerometer data')\n",
    "ax.set_xlabel('Data point number')"
   ]
  },
  {
   "cell_type": "markdown",
   "metadata": {},
   "source": [
    "# 5 Discussion 1a : Your own time series classification applications\n",
    "+ Can you think of some useful applications within your organisation?\n",
    "+ Does your organisation generate or depend upon time series data?"
   ]
  },
  {
   "cell_type": "markdown",
   "metadata": {},
   "source": [
    "# 6 Exercise 1a : Explore the data\n",
    "+ Look for the code comments \"### CHANGE PARAMETER HERE ###\"\n",
    "+ Select 5 different class 0 samples and plot them together.\n",
    "  + Do they look similar?\n",
    "+ Continue to the next cell and select 5 different class 1 samples and plot them together.\n",
    "+ The cells for this exercise end with the text \"End of exercise 1.1\""
   ]
  },
  {
   "cell_type": "code",
   "execution_count": null,
   "metadata": {},
   "outputs": [],
   "source": [
    "print('Labels of some of the first few data samples:')\n",
    "print(labels[:17])"
   ]
  },
  {
   "cell_type": "code",
   "execution_count": null,
   "metadata": {},
   "outputs": [],
   "source": [
    "# In this cell - change parameter i where instructed in order to \n",
    "# select 5 different class 0 samples and plot them together.\n",
    "fig, ax = plt.subplots()\n",
    "\n",
    "i = 1 ### CHANGE PARAMETER HERE ###\n",
    "plt.plot(data[i], color=class_colors[labels[i]])\n",
    "print('sample', i, 'class', str(labels[i]), class_names[labels[i]])\n",
    "\n",
    "i = 1 ### CHANGE PARAMETER HERE ###\n",
    "plt.plot(data[i], color=class_colors[labels[i]])\n",
    "print('sample', i, 'class', str(labels[i]), class_names[labels[i]])\n",
    "\n",
    "i = 1 ### CHANGE PARAMETER HERE ###\n",
    "plt.plot(data[i], color=class_colors[labels[i]])\n",
    "print('sample', i, 'class', str(labels[i]), class_names[labels[i]])\n",
    "\n",
    "i = 1 ### CHANGE PARAMETER HERE ###\n",
    "plt.plot(data[i], color=class_colors[labels[i]])\n",
    "print('sample', i, 'class', str(labels[i]), class_names[labels[i]])\n",
    "\n",
    "i = 1 ### CHANGE PARAMETER HERE ###\n",
    "plt.plot(data[i], color=class_colors[labels[i]])\n",
    "print('sample', i, 'class', str(labels[i]), class_names[labels[i]])\n",
    "\n",
    "plt.ylim([-3.5, 3.5])\n",
    "plt.title('Walking on cement')\n",
    "ax.set_ylabel('Standardised x-axis accelerometer data')\n",
    "ax.set_xlabel('Data point number')"
   ]
  },
  {
   "cell_type": "markdown",
   "metadata": {},
   "source": [
    "+ Select 5 different class 1 samples and plot them together.\n",
    "This time, we'll use a for loop to make the code more compact."
   ]
  },
  {
   "cell_type": "code",
   "execution_count": null,
   "metadata": {},
   "outputs": [],
   "source": [
    "# In this cell - change the list of sample numbers where instructed in order to \n",
    "# select 5 different class 1 samples and plot them together.\n",
    "fig, ax = plt.subplots()\n",
    "samples = [0, 0, 0, 0, 0] ### CHANGE PARAMETER HERE ###\n",
    "\n",
    "for i in samples:\n",
    "    plt.plot(data[i], color=class_colors[labels[i]])\n",
    "    print('sample', i, 'class', str(labels[i]), class_names[labels[i]])\n",
    "\n",
    "plt.ylim([-3.5, 3.5])\n",
    "plt.title('Walking on carpet')\n",
    "ax.set_ylabel('Standardised x-axis accelerometer data')\n",
    "ax.set_xlabel('Data point number')"
   ]
  },
  {
   "cell_type": "markdown",
   "metadata": {},
   "source": [
    "## End of exercise 1a"
   ]
  },
  {
   "cell_type": "markdown",
   "metadata": {},
   "source": [
    "## 6.1 Discussion 1b\n",
    "Do the class 0 and class 1 samples look different?\n",
    "\n",
    "In what way?\n",
    "\n",
    "What class would you say the sample below belongs to?"
   ]
  },
  {
   "cell_type": "code",
   "execution_count": null,
   "metadata": {},
   "outputs": [],
   "source": [
    "sample_number = 500 \n",
    "sample_label = labels[sample_number]\n",
    "class_name = class_names[sample_label]\n",
    "fig, ax = plt.subplots()\n",
    "plt.plot(data[sample_number], color='darkred')\n",
    "txt = 'Sample '+str(sample_number)+': Cement or carpet?\\nDo you recognise the data\\'s pattern?'\n",
    "plt.suptitle(txt)\n",
    "ax.set_ylabel('Standardised x-axis accelerometer data')\n",
    "ax.set_xlabel('Data point number')"
   ]
  },
  {
   "cell_type": "markdown",
   "metadata": {},
   "source": [
    "Were you right? Let's find out."
   ]
  },
  {
   "cell_type": "code",
   "execution_count": null,
   "metadata": {},
   "outputs": [],
   "source": [
    "sample_number = 0  ### CHANGE PARAMETER HERE ###\n",
    "print('sample_number:', sample_number)\n",
    "print('sample_label:', sample_label)\n",
    "print('class_name:', class_name)"
   ]
  },
  {
   "cell_type": "markdown",
   "metadata": {},
   "source": [
    "# 7 Examine the balance of the dataset\n",
    "How many class 0 samples are there? How many class 1 samples?\n",
    "\n",
    "Here we use the Pandas library (pd) to create a barchart with ease. First we must create a pandas DataFrame, labels_df, from our vector of labels."
   ]
  },
  {
   "cell_type": "code",
   "execution_count": null,
   "metadata": {},
   "outputs": [],
   "source": [
    "print('Number of samples of class 0 (cement)', (labels == 0).sum())\n",
    "print('Number of samples of class 1 (carpet)', (labels == 1).sum())\n",
    "print('Balance:', (labels == 0).sum() / ((labels == 0).sum()+(labels == 1).sum()), 'class 0')\n",
    "\n",
    "fig, ax = plt.subplots()\n",
    "labels_df = pd.DataFrame(labels) # Create a pandas DataFrame\n",
    "labels_df[0].value_counts().reindex([0, 1]).plot(kind='bar', color=class_colors)\n",
    "plt.title('Dataset balance')\n",
    "ax.set_ylabel('Number of samples')\n",
    "ax.set_xlabel('Class')"
   ]
  },
  {
   "cell_type": "markdown",
   "metadata": {},
   "source": [
    "# 8 Load a pre-prepared balanced dataset"
   ]
  },
  {
   "cell_type": "code",
   "execution_count": null,
   "metadata": {},
   "outputs": [],
   "source": [
    "url = url_root+'/SonyAIBORobotSurface1_IoC_BALANCED.txt'\n",
    "robot_df = pd.read_csv(url, sep='\\t', header=None)\n",
    "print('Loaded from', url)\n",
    "robot_data_bal = robot_df.values\n",
    "print('The shape of the balanced dataset, robot_data_bal, is', robot_data_bal.shape)"
   ]
  },
  {
   "cell_type": "code",
   "execution_count": null,
   "metadata": {},
   "outputs": [],
   "source": [
    "labels_bal = robot_data_bal[:,0] # '_bal' for 'balanced'\n",
    "data_bal = robot_data_bal[:,1:]\n",
    "\n",
    "# Change from classes 1 and 2 to classes 0 and 1\n",
    "labels_bal = labels_bal - 1\n",
    "labels_bal = labels_bal.astype(int)\n",
    "\n",
    "print('Number of samples of class 0 (cement)', (labels_bal == 0).sum())\n",
    "print('Number of samples of class 1 (carpet)', (labels_bal == 1).sum())\n",
    "\n",
    "fig, ax = plt.subplots()\n",
    "labels_df = pd.DataFrame(labels_bal) # Create a pandas DataFrame\n",
    "labels_df[0].value_counts().reindex([0, 1]).plot(kind='bar', color=class_colors)\n",
    "plt.title('Dataset balance')\n",
    "ax.set_ylabel('Number of samples')\n",
    "ax.set_xlabel('Class')"
   ]
  },
  {
   "cell_type": "markdown",
   "metadata": {},
   "source": [
    "# 9 Split the dataset into development and final test datasets\n",
    "\n",
    "![The dataset is split into two, unequal sets](images/final_test_dataset.png \"Split into development and final test datasets\")"
   ]
  },
  {
   "cell_type": "code",
   "execution_count": null,
   "metadata": {},
   "outputs": [],
   "source": [
    "final_test_set_size = 100\n",
    "# Rename as x and y, for convenience.\n",
    "x = data_bal\n",
    "y = labels_bal\n",
    "\n",
    "x_dev, x_finaltest, y_dev, y_finaltest = train_test_split(\n",
    "    x, y, test_size=final_test_set_size, random_state=21, stratify=y)\n",
    "print('The shape of x_dev is', x_dev.shape)\n",
    "print('The shape of x_finaltest is', x_finaltest.shape)\n",
    "print('Development data:')\n",
    "print('Number of samples of class 0', (y_dev == 0).sum())\n",
    "print('Number of samples of class 1', (y_dev == 1).sum())\n",
    "print('Final test data:')\n",
    "print('Number of samples of class 0', (y_finaltest == 0).sum())\n",
    "print('Number of samples of class 1', (y_finaltest == 1).sum())"
   ]
  },
  {
   "cell_type": "markdown",
   "metadata": {},
   "source": [
    "These datasets could now be saved to file and reloaded in the next notebook. Instead, we'll load a prepared dataset in the next notebook."
   ]
  },
  {
   "cell_type": "code",
   "execution_count": null,
   "metadata": {},
   "outputs": [],
   "source": []
  }
 ],
 "metadata": {
  "kernelspec": {
   "display_name": "Python 3",
   "language": "python",
   "name": "python3"
  },
  "language_info": {
   "codemirror_mode": {
    "name": "ipython",
    "version": 3
   },
   "file_extension": ".py",
   "mimetype": "text/x-python",
   "name": "python",
   "nbconvert_exporter": "python",
   "pygments_lexer": "ipython3",
   "version": "3.5.2"
  }
 },
 "nbformat": 4,
 "nbformat_minor": 2
}
