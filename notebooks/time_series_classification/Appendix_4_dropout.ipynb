{
 "cells": [
  {
   "cell_type": "markdown",
   "metadata": {},
   "source": [
    "# Dropout\n",
    "Dropout layers can improve a model's generalisation. A dropout layer randomly turns off some of the nodes during each training batch calculation. This can prevent a model from overfitting to the training data. Overfitting can result in high training accuracy but low validation accuracy. \n",
    "+ Does your model suffer from this?\n",
    "+ What happens if you increase the number nodes in the model does validation accuracy start to decrease, suggesting that overfitting is occurring?\n",
    "\n",
    "Try adding dropout layers to your model. An example of such a model is given below."
   ]
  },
  {
   "cell_type": "code",
   "execution_count": null,
   "metadata": {},
   "outputs": [],
   "source": [
    "import time\n",
    "\n",
    "import tensorflow as tf # Fast numerical computation for machine learning, computations on GPU or CPU\n",
    "import tensorflow.keras as keras # High-level interface to TensorFlow, making it easier to create neural networks\n",
    "from tensorflow.keras.models import Sequential\n",
    "from tensorflow.keras.layers import Dense, Activation, Dropout"
   ]
  },
  {
   "cell_type": "code",
   "execution_count": null,
   "metadata": {},
   "outputs": [],
   "source": [
    "# The size of the input vector\n",
    "input_dim = 70 # data_train.shape[1] ### CHANGE PARAMETER HERE ###\n",
    "\n",
    "\n",
    "def build_model_with_dropout(print_summary=False):\n",
    "    ''' Return a model with randomly initialised weights. The model uses dropout. '''\n",
    "    ### CHANGE PARAMETERS HERE ###\n",
    "    # Change the number of nodes and layers.\n",
    "    # Change the proportion of nodes \"dropped out\", from 0 up to 1.\n",
    "    model = Sequential([\n",
    "        Dense(16, input_dim=input_dim, activation='relu', name='Layer1'), \n",
    "        Dropout(0.1,name='Dropout1'),\n",
    "        Dense(8, activation='relu', name='Layer2'), \n",
    "        Dropout(0.1,name='Dropout2'),\n",
    "        Dense(1, activation='sigmoid', name='OutputLayer')\n",
    "    ])\n",
    "    ### END OF CHANGE PARAMETERS ###\n",
    "    optimizer = keras.optimizers.Adam() \n",
    "    model.compile(loss='binary_crossentropy', optimizer=optimizer, metrics=['accuracy'])\n",
    "    if print_summary:\n",
    "        print(model.summary())\n",
    "    return model\n",
    "\n",
    "\n",
    "model_with_dropout = build_model_with_dropout(True)"
   ]
  },
  {
   "cell_type": "code",
   "execution_count": null,
   "metadata": {},
   "outputs": [],
   "source": []
  }
 ],
 "metadata": {
  "kernelspec": {
   "display_name": "Python 3",
   "language": "python",
   "name": "python3"
  },
  "language_info": {
   "codemirror_mode": {
    "name": "ipython",
    "version": 3
   },
   "file_extension": ".py",
   "mimetype": "text/x-python",
   "name": "python",
   "nbconvert_exporter": "python",
   "pygments_lexer": "ipython3",
   "version": "3.5.2"
  }
 },
 "nbformat": 4,
 "nbformat_minor": 2
}
