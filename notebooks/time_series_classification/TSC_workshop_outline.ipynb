{
 "cells": [
  {
   "cell_type": "markdown",
   "metadata": {},
   "source": [
    "# Time Series Classification workshop outline"
   ]
  },
  {
   "cell_type": "markdown",
   "metadata": {},
   "source": [
    "# Notebook 1\n",
    "Load, process and explore the time series data.\n",
    "\n",
    "## Exercise 1a\n",
    "Select data samples that are in the same class and plot them together."
   ]
  },
  {
   "cell_type": "markdown",
   "metadata": {},
   "source": [
    "# Notebook 2\n",
    "Build, train and test an MLP neural network.\n",
    "\n",
    "## Exercise 2a : Variability\n",
    "Rerun the notebook a few times, re-training the model each time. Monitor the model's validation accuracy. How much does it vary?\n",
    "\n",
    "## Exercise 2b : Training choices\n",
    "Carry out some experiments to decide how much of the development dataset to use for training and how much for testing. Decide how many training epochs are needed and what the batch size should be.\n",
    "\n",
    "## Exercise 2c : Insight\n",
    "Examine some of the test data samples that the model classifies incorrectly. What does this tell you about the data, the training or about the model's ability?"
   ]
  },
  {
   "cell_type": "markdown",
   "metadata": {},
   "source": [
    "# Notebook 3\n",
    "Develop your MLP neural network model.\n",
    "\n",
    "## Exercise 3a : Model development\n",
    "### Competition part I\n",
    "Change model hyperparameters and evaluate the model. Find the best performing model.\n",
    "\n",
    "Try dropout layers if you wish.\n",
    "\n",
    "Compete to find the most accurate model when tested on the development dataset."
   ]
  },
  {
   "cell_type": "markdown",
   "metadata": {},
   "source": [
    "# Notebook 4\n",
    "## Exercise 4a : Competition part II\n",
    "Evaluate your model on previously unseen data, the final test dataset.\n",
    "\n"
   ]
  }
 ],
 "metadata": {
  "kernelspec": {
   "display_name": "Python 3",
   "language": "python",
   "name": "python3"
  },
  "language_info": {
   "codemirror_mode": {
    "name": "ipython",
    "version": 3
   },
   "file_extension": ".py",
   "mimetype": "text/x-python",
   "name": "python",
   "nbconvert_exporter": "python",
   "pygments_lexer": "ipython3",
   "version": "3.5.2"
  }
 },
 "nbformat": 4,
 "nbformat_minor": 2
}
