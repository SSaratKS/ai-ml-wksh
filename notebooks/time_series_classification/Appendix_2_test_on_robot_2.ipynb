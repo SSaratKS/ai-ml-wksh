{
 "cells": [
  {
   "cell_type": "markdown",
   "metadata": {},
   "source": [
    "# Test on a different robot\n",
    "<a href=\"https://colab.research.google.com/github/jarusgnuj/ioctm358/blob/master/notebooks/time_series_classification/Appendix_2_test_on_robot_2.ipynb\" target=\"_parent\"><img src=\"https://colab.research.google.com/assets/colab-badge.svg\" alt=\"Open In Colab\"/></a>"
   ]
  },
  {
   "cell_type": "code",
   "execution_count": null,
   "metadata": {},
   "outputs": [],
   "source": [
    "from pathlib import Path\n",
    "import time\n",
    "\n",
    "import numpy as np\n",
    "import pandas as pd\n",
    "import sklearn\n",
    "from sklearn.model_selection import train_test_split, RepeatedStratifiedKFold\n",
    "import tensorflow as tf\n",
    "import tensorflow.keras as keras\n",
    "import matplotlib.pyplot as plt\n",
    "import seaborn as sns\n",
    "\n",
    "from tensorflow.keras.layers import Input, Dense, Activation, Dropout\n",
    "from tensorflow.keras.models import Model\n",
    "from tensorflow.keras.models import model_from_json\n",
    "\n",
    "# General settings\n",
    "sns.set_style('whitegrid')"
   ]
  },
  {
   "cell_type": "code",
   "execution_count": null,
   "metadata": {},
   "outputs": [],
   "source": [
    "def load_data(filename):\n",
    "    ''' Load the data from a file in a GitHub repo '''\n",
    "    url_root = 'https://raw.githubusercontent.com/jarusgnuj/ai-ml-wksh/master/data/UCR_TSC_archive/SonyAIBORobotSurface2_IoC'\n",
    "    url = url_root+'/'+filename\n",
    "    robot_df = pd.read_csv(url, sep='\\t', header=None)\n",
    "    print('Loaded from', url)\n",
    "    robot_data = robot_df.values\n",
    "    print('The shape of robot_data is', robot_data.shape)\n",
    "    return robot_data"
   ]
  },
  {
   "cell_type": "code",
   "execution_count": null,
   "metadata": {},
   "outputs": [],
   "source": [
    "robot_data = load_data('SonyAIBORobotSurface2_TEST.txt')\n",
    "\n",
    "y = robot_data[:,0].astype(int)\n",
    "x = robot_data[:,1:]\n",
    "print('The shape of x is', x.shape)\n",
    "print('The shape of y is', y.shape)\n",
    "\n",
    "print('Number of samples of class 0', (y == 0).sum())\n",
    "print('Number of samples of class 1', (y == 1).sum())\n",
    "n0 = (y == 0).sum()\n",
    "n1 = (y == 1).sum()\n",
    "print('Baseline accuracy to beat:', n1/(n0+n1))"
   ]
  },
  {
   "cell_type": "code",
   "execution_count": null,
   "metadata": {},
   "outputs": [],
   "source": [
    "x_reshape = np.zeros((x.shape[0], 70)) \n",
    "x_reshape[:x.shape[0],:x.shape[1]] = x\n",
    "x_test = x_reshape\n",
    "y_test = y"
   ]
  },
  {
   "cell_type": "code",
   "execution_count": null,
   "metadata": {},
   "outputs": [],
   "source": [
    "samples = [1, 2, 3, 5, 7]\n",
    "for i in samples:\n",
    "    plt.plot(x_test[i], label='class'+str(y_test[i]))\n",
    "plt.legend(loc='upper right', frameon=False)\n",
    "plt.ylim([-3.5, 3.5])"
   ]
  },
  {
   "cell_type": "markdown",
   "metadata": {},
   "source": [
    "## Load model\n",
    "\n",
    "### To make model files available in a Colab session\n",
    "+ First save a model by running notebook 4_TSC_final_test.ipynb (set the flag so that it saves the model to file)\n",
    "  + Open the sidebar menu (using the > tab on the left)\n",
    "  + Select the Files tab, you will see your model files in there - model.json and model.h5\n",
    "  + Right click on a model file and select download, select Save File and save the file to your machine.\n",
    "  + Repeat to download the other model file.\n",
    "+ Return to this notebook. \n",
    "+ Upload a model to this Colab session - \n",
    "  + open the sidebar menu, \n",
    "  + select the Files tab\n",
    "  + hit UPLOAD\n",
    "  + select your model files - the .json and the .h5 file\n",
    "+ Run the cells below"
   ]
  },
  {
   "cell_type": "code",
   "execution_count": null,
   "metadata": {},
   "outputs": [],
   "source": [
    "json_file = open('model.json', 'r')\n",
    "loaded_json_model = json_file.read()\n",
    "json_file.close()\n",
    "loaded_model = model_from_json(loaded_json_model)\n",
    "# load weights into new model\n",
    "loaded_model.load_weights('model.h5')\n",
    "print('Model loaded from file')\n",
    "optimizer = keras.optimizers.Adam()\n",
    "loaded_model.compile(loss='binary_crossentropy', optimizer=optimizer, metrics=['accuracy'])\n",
    "print('Model compiled')"
   ]
  },
  {
   "cell_type": "markdown",
   "metadata": {},
   "source": [
    "## Run model"
   ]
  },
  {
   "cell_type": "code",
   "execution_count": null,
   "metadata": {},
   "outputs": [],
   "source": [
    "batch_size = 8\n",
    "result = loaded_model.evaluate(x_test, y_test, batch_size=batch_size)\n",
    "print('Accuracy on robot 2 data is', result[1])\n",
    "y_probability = loaded_model.predict_on_batch(x_test)\n",
    "y_predicted_class = np.round(y_probability).flatten()\n",
    "print('Some of the test results:')\n",
    "print('True', y_test[:23])\n",
    "print('Pred', y_predicted_class[:23])"
   ]
  },
  {
   "cell_type": "code",
   "execution_count": null,
   "metadata": {},
   "outputs": [],
   "source": []
  }
 ],
 "metadata": {
  "kernelspec": {
   "display_name": "Python 3",
   "language": "python",
   "name": "python3"
  },
  "language_info": {
   "codemirror_mode": {
    "name": "ipython",
    "version": 3
   },
   "file_extension": ".py",
   "mimetype": "text/x-python",
   "name": "python",
   "nbconvert_exporter": "python",
   "pygments_lexer": "ipython3",
   "version": "3.5.2"
  }
 },
 "nbformat": 4,
 "nbformat_minor": 2
}
