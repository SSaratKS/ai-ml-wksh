{
  "nbformat": 4,
  "nbformat_minor": 0,
  "metadata": {
    "colab": {
      "name": "Introduction-to-colab.ipynb",
      "version": "0.3.2",
      "provenance": [],
      "collapsed_sections": [],
      "include_colab_link": true
    },
    "kernelspec": {
      "name": "python3",
      "display_name": "Python 3"
    }
  },
  "cells": [
    {
      "cell_type": "markdown",
      "metadata": {
        "id": "view-in-github",
        "colab_type": "text"
      },
      "source": [
        "<a href=\"https://colab.research.google.com/github/jarusgnuj/ai-ml-wksh/blob/master/notebooks/Introduction_to_colab.ipynb\" target=\"_parent\"><img src=\"https://colab.research.google.com/assets/colab-badge.svg\" alt=\"Open In Colab\"/></a>"
      ]
    },
    {
      "cell_type": "markdown",
      "metadata": {
        "id": "oKEErGB-dKW7",
        "colab_type": "text"
      },
      "source": [
        "**Colab** is a Python development environment that runs in the browser using Google Cloud."
      ]
    },
    {
      "cell_type": "markdown",
      "metadata": {
        "id": "o_-zkQqId6bP",
        "colab_type": "text"
      },
      "source": [
        "## Text Cell\n",
        "\n",
        "Colab consists of sequence of individual cell. The cell can be either **Text Cell** or **Code Cell**.\n",
        "A Text cell is used for writing 'text': a description of code, requirements, algorithms etc. A text cell can \n",
        "also contain images, like this:\n",
        "\n",
        "![](https://github.com/jarusgnuj/ai-ml-wksh/blob/master/data/image_classification/figures/logo.png?raw=true)"
      ]
    },
    {
      "cell_type": "markdown",
      "metadata": {
        "id": "oZyKk2ZHDo9p",
        "colab_type": "text"
      },
      "source": [
        "**Create your own text cell below and add e.g. your name or some information**"
      ]
    },
    {
      "cell_type": "markdown",
      "metadata": {
        "id": "O--sRz2we8cd",
        "colab_type": "text"
      },
      "source": [
        "## Code cell\n",
        "\n",
        "A Code cell is used to write and execute python code. A code cell is usually marked by an arrow pointer ![](https://github.com/jarusgnuj/ai-ml-wksh/blob/master/data/image_classification/figures/colab-run.png?raw=true). \n",
        "\n",
        "The output of the code is displayed just under the code cell."
      ]
    },
    {
      "cell_type": "code",
      "metadata": {
        "id": "09lXq-9BdAAQ",
        "colab_type": "code",
        "outputId": "ed017005-1f7e-4084-f7da-16f2a734f46a",
        "colab": {
          "base_uri": "https://localhost:8080/",
          "height": 34
        }
      },
      "source": [
        "# To execute a cell, either click the arrow sign on the left or press Shift+Enter.\n",
        "print(\"Hello World\")"
      ],
      "execution_count": 2,
      "outputs": [
        {
          "output_type": "stream",
          "text": [
            "Hello World\n"
          ],
          "name": "stdout"
        }
      ]
    },
    {
      "cell_type": "markdown",
      "metadata": {
        "id": "tOLtrTCdC8Kk",
        "colab_type": "text"
      },
      "source": [
        "Now create your own code cell and print 'Hello my name is ...'\n",
        "\n",
        "Hint - you can do this quickly by copying the text above into the new code cell that you create and changing 'hello world' to your own message\n",
        "\n",
        "---\n",
        "\n"
      ]
    },
    {
      "cell_type": "code",
      "metadata": {
        "id": "XBRItaYSgwrC",
        "colab_type": "code",
        "outputId": "68833a3c-c1f7-41f0-bf21-62a4f4f107d0",
        "colab": {
          "base_uri": "https://localhost:8080/",
          "height": 34
        }
      },
      "source": [
        "import numpy as np\n",
        "\n",
        "a = np.array([\"T-shirt\", \"Jumpers\"])\n",
        "a"
      ],
      "execution_count": 3,
      "outputs": [
        {
          "output_type": "execute_result",
          "data": {
            "text/plain": [
              "array(['T-shirt', 'Jumpers'], dtype='<U7')"
            ]
          },
          "metadata": {
            "tags": []
          },
          "execution_count": 3
        }
      ]
    },
    {
      "cell_type": "markdown",
      "metadata": {
        "id": "hUiW_C0qFgoV",
        "colab_type": "text"
      },
      "source": [
        "The above example code shows some important things about python. The first is how to import libraries. One very import library you will use today is numpy. "
      ]
    },
    {
      "cell_type": "code",
      "metadata": {
        "id": "R0I9KbFhhfa0",
        "colab_type": "code",
        "outputId": "c6009266-43e7-4cc1-dfcc-2f7aaa3236a2",
        "colab": {
          "base_uri": "https://localhost:8080/",
          "height": 63
        }
      },
      "source": [
        "!pip install numpy"
      ],
      "execution_count": 4,
      "outputs": [
        {
          "output_type": "stream",
          "text": [
            "Requirement already satisfied: numpy in /usr/local/lib/python3.6/dist-packages (1.16.4)\n"
          ],
          "name": "stdout"
        }
      ]
    },
    {
      "cell_type": "code",
      "metadata": {
        "id": "gAhsNV7xhmc9",
        "colab_type": "code",
        "outputId": "1fa5613b-f9d5-4e9b-e5b2-79e9a13e979e",
        "colab": {
          "base_uri": "https://localhost:8080/",
          "height": 269
        }
      },
      "source": [
        "import matplotlib.mlab as mlab\n",
        "import matplotlib.pyplot as plt\n",
        "\n",
        "x = [21,22,23,4,5,6,77,8,9,10,31,32,33,34,35,36,37,18,49,50,100]\n",
        "num_bins = 5\n",
        "plt.hist(x, num_bins, facecolor='blue', alpha=0.5)\n",
        "plt.show()"
      ],
      "execution_count": 5,
      "outputs": [
        {
          "output_type": "display_data",
          "data": {
            "image/png": "[encoded data removed]",
            "text/plain": [
              "<Figure size 432x288 with 1 Axes>"
            ]
          },
          "metadata": {
            "tags": []
          }
        }
      ]
    },
    {
      "cell_type": "markdown",
      "metadata": {
        "id": "QUZn0ZhnHAyh",
        "colab_type": "text"
      },
      "source": [
        "Lets change the visual representation\n",
        "\n"
      ]
    },
    {
      "cell_type": "code",
      "metadata": {
        "id": "gRg73RV5iCCf",
        "colab_type": "code",
        "colab": {
          "base_uri": "https://localhost:8080/",
          "height": 286
        },
        "outputId": "7702f201-b8dd-4058-a58c-b2f0087d2fa9"
      },
      "source": [
        "y = [2,3,5,2,3,2,3,5,2,3,7,10,24,2,3,5,2,3,19,17,1]\n",
        "plt.scatter(x, y)\n",
        "plt.show()"
      ],
      "execution_count": 10,
      "outputs": [
        {
          "output_type": "display_data",
          "data": {
            "image/png": "[encoded data removed]",
            "text/plain": [
              "<Figure size 432x288 with 1 Axes>"
            ]
          },
          "metadata": {
            "tags": []
          }
        },
        {
          "output_type": "execute_result",
          "data": {
            "text/plain": [
              "21"
            ]
          },
          "metadata": {
            "tags": []
          },
          "execution_count": 10
        }
      ]
    },
    {
      "cell_type": "code",
      "metadata": {
        "id": "vPy4oaSpHUOr",
        "colab_type": "code",
        "colab": {}
      },
      "source": [
        ""
      ],
      "execution_count": 0,
      "outputs": []
    }
  ]
}