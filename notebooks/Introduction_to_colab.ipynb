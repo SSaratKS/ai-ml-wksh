{
  "nbformat": 4,
  "nbformat_minor": 0,
  "metadata": {
    "colab": {
      "name": "Introduction-to-colab.ipynb",
      "version": "0.3.2",
      "provenance": [],
      "collapsed_sections": [],
      "include_colab_link": true
    },
    "kernelspec": {
      "name": "python3",
      "display_name": "Python 3"
    }
  },
  "cells": [
    {
      "cell_type": "markdown",
      "metadata": {
        "id": "view-in-github",
        "colab_type": "text"
      },
      "source": [
        "<a href=\"https://colab.research.google.com/github/jarusgnuj/ai-ml-wksh/blob/master/notebooks/Introduction_to_colab.ipynb\" target=\"_parent\"><img src=\"https://colab.research.google.com/assets/colab-badge.svg\" alt=\"Open In Colab\"/></a>"
      ]
    },
    {
      "cell_type": "markdown",
      "metadata": {
        "id": "oKEErGB-dKW7",
        "colab_type": "text"
      },
      "source": [
        "**Colab** is a Python development environment that runs in the browser using Google Cloud."
      ]
    },
    {
      "cell_type": "markdown",
      "metadata": {
        "id": "o_-zkQqId6bP",
        "colab_type": "text"
      },
      "source": [
        "## Text Cell\n",
        "\n",
        "Colab consists of sequence of individual cell. The cell can be either **Text Cell** or **Code Cell**.\n",
        "A Text cell is used for writing 'text': a description of code, requirements, algorithms etc. A text cell can \n",
        "also contain images, like this:\n",
        "\n",
        "![](https://github.com/jarusgnuj/ai-ml-wksh/blob/master/data/image_classification/figures/logo.png?raw=true)"
      ]
    },
    {
      "cell_type": "markdown",
      "metadata": {
        "id": "oZyKk2ZHDo9p",
        "colab_type": "text"
      },
      "source": [
        "**Create your own text cell below and add e.g. your name or some information**"
      ]
    },
    {
      "cell_type": "markdown",
      "metadata": {
        "id": "O--sRz2we8cd",
        "colab_type": "text"
      },
      "source": [
        "## Code cell\n",
        "\n",
        "A Code cell is used to write and execute python code. A code cell is usually marked by an arrow pointer ![](https://github.com/jarusgnuj/ai-ml-wksh/blob/master/data/image_classification/figures/colab-run.png?raw=true). \n",
        "\n",
        "The output of the code is displayed just under the code cell."
      ]
    },
    {
      "cell_type": "code",
      "metadata": {
        "id": "09lXq-9BdAAQ",
        "colab_type": "code",
        "colab": {}
      },
      "source": [
        "# To execute a cell, either click the arrow sign on the left or press Shift+Enter.\n",
        "print(\"Hello World\")"
      ],
      "execution_count": 0,
      "outputs": []
    },
    {
      "cell_type": "markdown",
      "metadata": {
        "id": "tOLtrTCdC8Kk",
        "colab_type": "text"
      },
      "source": [
        "Now create your own code cell and print 'Hello my name is ...'\n",
        "\n",
        "Hint - you can do this quickly by copying the text above into the new code cell that you create and changing 'hello world' to your own message\n",
        "\n",
        "---\n",
        "\n"
      ]
    },
    {
      "cell_type": "code",
      "metadata": {
        "id": "XBRItaYSgwrC",
        "colab_type": "code",
        "colab": {}
      },
      "source": [
        "import numpy as np\n",
        "\n",
        "a = np.array([\"T-shirt\", \"Jumpers\"])\n",
        "a"
      ],
      "execution_count": 0,
      "outputs": []
    },
    {
      "cell_type": "markdown",
      "metadata": {
        "id": "hUiW_C0qFgoV",
        "colab_type": "text"
      },
      "source": [
        "The above example code shows some important things about python. The first is how to import libraries. One very important library you will use today is numpy. "
      ]
    },
    {
      "cell_type": "code",
      "metadata": {
        "id": "R0I9KbFhhfa0",
        "colab_type": "code",
        "colab": {}
      },
      "source": [
        "!pip install numpy"
      ],
      "execution_count": 0,
      "outputs": []
    },
    {
      "cell_type": "code",
      "metadata": {
        "id": "gAhsNV7xhmc9",
        "colab_type": "code",
        "colab": {}
      },
      "source": [
        "import matplotlib.pyplot as plt\n",
        "\n",
        "x = [21,22,23,4,5,6,77,8,9,10,31,32,33,34,35,36,37,18,49,50,100]\n",
        "num_bins = 5\n",
        "plt.hist(x, num_bins, facecolor='blue', alpha=0.5)\n",
        "plt.show()"
      ],
      "execution_count": 0,
      "outputs": []
    },
    {
      "cell_type": "markdown",
      "metadata": {
        "id": "QUZn0ZhnHAyh",
        "colab_type": "text"
      },
      "source": [
        "Lets change the visual representation\n",
        "\n"
      ]
    },
    {
      "cell_type": "code",
      "metadata": {
        "id": "gRg73RV5iCCf",
        "colab_type": "code",
        "colab": {}
      },
      "source": [
        "y = [2,3,5,2,3,2,3,5,2,3,7,10,24,2,3,5,2,3,19,17,1]\n",
        "plt.scatter(x, y)\n",
        "plt.show()"
      ],
      "execution_count": 0,
      "outputs": []
    }
  ]
}